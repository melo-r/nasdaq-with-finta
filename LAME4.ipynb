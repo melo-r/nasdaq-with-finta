{
  "nbformat": 4,
  "nbformat_minor": 0,
  "metadata": {
    "colab": {
      "name": "LAME4.ipynb",
      "provenance": [],
      "collapsed_sections": [],
      "history_visible": true
    },
    "kernelspec": {
      "name": "python3",
      "display_name": "Python 3"
    }
  },
  "cells": [
    {
      "cell_type": "code",
      "metadata": {
        "id": "2IMFWNkLhHPN",
        "outputId": "d5279d03-0ab2-4fa9-c13f-5e79568ab3de",
        "colab": {
          "base_uri": "https://localhost:8080/",
          "height": 170
        }
      },
      "source": [
        "!pip install finta"
      ],
      "execution_count": 3,
      "outputs": [
        {
          "output_type": "stream",
          "text": [
            "Collecting finta\n",
            "  Downloading https://files.pythonhosted.org/packages/d0/6b/1142971fc9567e58fb5a2362cbb44b826b77da543c38b501d653104c112e/finta-1.2-py3-none-any.whl\n",
            "Requirement already satisfied: pandas in /usr/local/lib/python3.6/dist-packages (from finta) (1.1.2)\n",
            "Requirement already satisfied: numpy in /usr/local/lib/python3.6/dist-packages (from finta) (1.18.5)\n",
            "Requirement already satisfied: python-dateutil>=2.7.3 in /usr/local/lib/python3.6/dist-packages (from pandas->finta) (2.8.1)\n",
            "Requirement already satisfied: pytz>=2017.2 in /usr/local/lib/python3.6/dist-packages (from pandas->finta) (2018.9)\n",
            "Requirement already satisfied: six>=1.5 in /usr/local/lib/python3.6/dist-packages (from python-dateutil>=2.7.3->pandas->finta) (1.15.0)\n",
            "Installing collected packages: finta\n",
            "Successfully installed finta-1.2\n"
          ],
          "name": "stdout"
        }
      ]
    },
    {
      "cell_type": "code",
      "metadata": {
        "id": "IIA97E7iiGMe"
      },
      "source": [
        "from finta import TA"
      ],
      "execution_count": 124,
      "outputs": []
    },
    {
      "cell_type": "code",
      "metadata": {
        "id": "OUc_KmMgiI19"
      },
      "source": [
        "import pandas as pd"
      ],
      "execution_count": 12,
      "outputs": []
    },
    {
      "cell_type": "code",
      "metadata": {
        "id": "_N03qqPeoEpA"
      },
      "source": [
        "url = 'http://donnees.ville.montreal.qc.ca/dataset/f170fecc-18db-44bc-b4fe-5b0b6d2c7297/resource/d54cec49-349e-47af-b152-7740056d7311/download/comptagevelo2012.csv'\n",
        "\n",
        "df = pd.read_csv(url, sep=',', parse_dates={'datetime':[0, 1]}, index_col='datetime')\n",
        "\n",
        "df.head()"
      ],
      "execution_count": null,
      "outputs": []
    },
    {
      "cell_type": "code",
      "metadata": {
        "id": "Lt_cIiUyi5Tr"
      },
      "source": [
        "url2 = 'https://github.com/melo-r/nasdaq-with-finta/blob/main/HistoricalQuotes2.csv'\n",
        "ohlc = pd.read_csv(url2, index_col=None, parse_dates=True)\n",
        "ohlc.head()\n"
      ],
      "execution_count": null,
      "outputs": []
    },
    {
      "cell_type": "code",
      "metadata": {
        "id": "5uxjCcNbyHLp",
        "outputId": "914a9ad1-a9c5-4861-b6b2-d190c32399b2",
        "colab": {
          "base_uri": "https://localhost:8080/",
          "height": 235
        }
      },
      "source": [
        "import numpy as np\n",
        "from pandas_datareader import data as wb\n",
        "import matplotlib.pyplot as plt\n",
        "\n",
        "tkt= wb.DataReader('LAME4.SA', data_source='yahoo', start='2020-09-1', end='2020-10-23')\n",
        "\n",
        "tkt.head()"
      ],
      "execution_count": 221,
      "outputs": [
        {
          "output_type": "execute_result",
          "data": {
            "text/html": [
              "<div>\n",
              "<style scoped>\n",
              "    .dataframe tbody tr th:only-of-type {\n",
              "        vertical-align: middle;\n",
              "    }\n",
              "\n",
              "    .dataframe tbody tr th {\n",
              "        vertical-align: top;\n",
              "    }\n",
              "\n",
              "    .dataframe thead th {\n",
              "        text-align: right;\n",
              "    }\n",
              "</style>\n",
              "<table border=\"1\" class=\"dataframe\">\n",
              "  <thead>\n",
              "    <tr style=\"text-align: right;\">\n",
              "      <th></th>\n",
              "      <th>High</th>\n",
              "      <th>Low</th>\n",
              "      <th>Open</th>\n",
              "      <th>Close</th>\n",
              "      <th>Volume</th>\n",
              "      <th>Adj Close</th>\n",
              "    </tr>\n",
              "    <tr>\n",
              "      <th>Date</th>\n",
              "      <th></th>\n",
              "      <th></th>\n",
              "      <th></th>\n",
              "      <th></th>\n",
              "      <th></th>\n",
              "      <th></th>\n",
              "    </tr>\n",
              "  </thead>\n",
              "  <tbody>\n",
              "    <tr>\n",
              "      <th>2020-09-01</th>\n",
              "      <td>33.04</td>\n",
              "      <td>32.37</td>\n",
              "      <td>32.50</td>\n",
              "      <td>33.00</td>\n",
              "      <td>7869900</td>\n",
              "      <td>33.00</td>\n",
              "    </tr>\n",
              "    <tr>\n",
              "      <th>2020-09-02</th>\n",
              "      <td>33.13</td>\n",
              "      <td>32.25</td>\n",
              "      <td>33.00</td>\n",
              "      <td>32.56</td>\n",
              "      <td>3944400</td>\n",
              "      <td>32.56</td>\n",
              "    </tr>\n",
              "    <tr>\n",
              "      <th>2020-09-03</th>\n",
              "      <td>32.66</td>\n",
              "      <td>30.51</td>\n",
              "      <td>32.57</td>\n",
              "      <td>30.86</td>\n",
              "      <td>10948400</td>\n",
              "      <td>30.86</td>\n",
              "    </tr>\n",
              "    <tr>\n",
              "      <th>2020-09-04</th>\n",
              "      <td>31.23</td>\n",
              "      <td>29.42</td>\n",
              "      <td>30.95</td>\n",
              "      <td>30.84</td>\n",
              "      <td>9476900</td>\n",
              "      <td>30.84</td>\n",
              "    </tr>\n",
              "    <tr>\n",
              "      <th>2020-09-08</th>\n",
              "      <td>31.46</td>\n",
              "      <td>30.02</td>\n",
              "      <td>30.02</td>\n",
              "      <td>30.97</td>\n",
              "      <td>7636900</td>\n",
              "      <td>30.97</td>\n",
              "    </tr>\n",
              "  </tbody>\n",
              "</table>\n",
              "</div>"
            ],
            "text/plain": [
              "            High   Low  Open  Close    Volume  Adj Close\n",
              "Date                                                    \n",
              "2020-09-01 33.04 32.37 32.50  33.00   7869900      33.00\n",
              "2020-09-02 33.13 32.25 33.00  32.56   3944400      32.56\n",
              "2020-09-03 32.66 30.51 32.57  30.86  10948400      30.86\n",
              "2020-09-04 31.23 29.42 30.95  30.84   9476900      30.84\n",
              "2020-09-08 31.46 30.02 30.02  30.97   7636900      30.97"
            ]
          },
          "metadata": {
            "tags": []
          },
          "execution_count": 221
        }
      ]
    },
    {
      "cell_type": "code",
      "metadata": {
        "id": "cms_yk3TydQ6",
        "outputId": "10edd1c5-c612-4899-ad27-a5d6e53e1ce2",
        "colab": {
          "base_uri": "https://localhost:8080/",
          "height": 680
        }
      },
      "source": [
        "pd.options.display.float_format = '{:,.2f}'.format\n",
        "print (tkt)"
      ],
      "execution_count": 224,
      "outputs": [
        {
          "output_type": "stream",
          "text": [
            "            High   Low  Open  Close    Volume  Adj Close\n",
            "Date                                                    \n",
            "2020-09-01 33.04 32.37 32.50  33.00   7869900      33.00\n",
            "2020-09-02 33.13 32.25 33.00  32.56   3944400      32.56\n",
            "2020-09-03 32.66 30.51 32.57  30.86  10948400      30.86\n",
            "2020-09-04 31.23 29.42 30.95  30.84   9476900      30.84\n",
            "2020-09-08 31.46 30.02 30.02  30.97   7636900      30.97\n",
            "2020-09-09 31.41 30.34 31.31  30.91   6597900      30.91\n",
            "2020-09-10 31.33 29.92 31.02  30.15   9826000      30.15\n",
            "2020-09-11 30.58 29.26 30.06  29.49   5443600      29.49\n",
            "2020-09-14 31.49 29.78 29.89  31.15   9096900      31.15\n",
            "2020-09-15 31.34 30.62 31.30  31.26   3972500      31.26\n",
            "2020-09-16 31.38 30.77 31.27  30.88   4767900      30.88\n",
            "2020-09-17 30.67 29.96 30.50  30.11   5330500      30.11\n",
            "2020-09-18 30.35 29.05 29.90  29.40   8496000      29.40\n",
            "2020-09-21 29.88 28.51 28.83  29.49   5762100      29.49\n",
            "2020-09-22 29.47 28.80 29.37  29.14   5170100      29.14\n",
            "2020-09-23 29.38 27.97 29.07  28.87  12239300      28.87\n",
            "2020-09-24 29.44 28.71 29.00  28.88   7183500      28.88\n",
            "2020-09-25 29.24 28.34 28.76  29.04   5649400      29.04\n",
            "2020-09-28 29.57 27.78 29.43  27.80   9778500      27.80\n",
            "2020-09-29 28.46 27.62 27.73  28.37   9758500      28.37\n",
            "2020-09-30 28.84 28.14 28.51  28.39   8656200      28.39\n",
            "2020-10-01 29.45 28.23 28.36  29.33   9757900      29.33\n",
            "2020-10-02 29.22 28.25 29.09  28.59  10135200      28.59\n",
            "2020-10-05 28.77 27.84 28.70  28.46  10133500      28.46\n",
            "2020-10-06 29.00 28.34 28.79  28.54   7928000      28.54\n",
            "2020-10-07 28.72 27.69 28.48  27.73   8477100      27.73\n",
            "2020-10-08 28.00 27.38 28.00  27.70   8752800      27.70\n",
            "2020-10-09 28.35 27.08 27.62  27.20  13148800      27.20\n",
            "2020-10-13 28.08 27.31 27.33  27.80   6199700      27.80\n",
            "2020-10-14 28.12 27.10 27.92  27.25   8838800      27.25\n",
            "2020-10-15 28.44 26.52 26.89  27.82  10645200      27.82\n",
            "2020-10-16 28.02 27.22 27.82  27.36   5640800      27.36\n",
            "2020-10-19 28.04 27.32 27.56  27.50   5256100      27.50\n",
            "2020-10-20 27.90 27.31 27.73  27.40   5981100      27.40\n",
            "2020-10-21 27.55 26.47 27.40  26.58   9791900      26.58\n",
            "2020-10-22 26.73 25.98 26.70  26.02  10187500      26.02\n",
            "2020-10-23 26.47 25.67 26.08  25.89   8905900      25.89\n"
          ],
          "name": "stdout"
        }
      ]
    },
    {
      "cell_type": "code",
      "metadata": {
        "id": "XOhtSf25ytJq"
      },
      "source": [
        "tkt['Variacao'] = (( tkt['Close'] / tkt['Open'] ) -1) * 100\n",
        "tkt['Volume$'] = (tkt['Close'] * tkt['Volume'])\n",
        "#tkt['Variacao']"
      ],
      "execution_count": 206,
      "outputs": []
    },
    {
      "cell_type": "code",
      "metadata": {
        "id": "P9Jwi1Ma4J9D",
        "outputId": "a02a2359-961b-4297-ad36-5b7cf0f3d146",
        "colab": {
          "base_uri": "https://localhost:8080/",
          "height": 390
        }
      },
      "source": [
        "\n",
        "tkt[['Open','High','Low','Close','Variacao','Volume$']].tail(10)"
      ],
      "execution_count": 212,
      "outputs": [
        {
          "output_type": "execute_result",
          "data": {
            "text/html": [
              "<div>\n",
              "<style scoped>\n",
              "    .dataframe tbody tr th:only-of-type {\n",
              "        vertical-align: middle;\n",
              "    }\n",
              "\n",
              "    .dataframe tbody tr th {\n",
              "        vertical-align: top;\n",
              "    }\n",
              "\n",
              "    .dataframe thead th {\n",
              "        text-align: right;\n",
              "    }\n",
              "</style>\n",
              "<table border=\"1\" class=\"dataframe\">\n",
              "  <thead>\n",
              "    <tr style=\"text-align: right;\">\n",
              "      <th></th>\n",
              "      <th>Open</th>\n",
              "      <th>High</th>\n",
              "      <th>Low</th>\n",
              "      <th>Close</th>\n",
              "      <th>Variacao</th>\n",
              "      <th>Volume$</th>\n",
              "    </tr>\n",
              "    <tr>\n",
              "      <th>Date</th>\n",
              "      <th></th>\n",
              "      <th></th>\n",
              "      <th></th>\n",
              "      <th></th>\n",
              "      <th></th>\n",
              "      <th></th>\n",
              "    </tr>\n",
              "  </thead>\n",
              "  <tbody>\n",
              "    <tr>\n",
              "      <th>2020-10-09</th>\n",
              "      <td>27.62</td>\n",
              "      <td>28.35</td>\n",
              "      <td>27.08</td>\n",
              "      <td>27.20</td>\n",
              "      <td>-1.52</td>\n",
              "      <td>357,647,370.03</td>\n",
              "    </tr>\n",
              "    <tr>\n",
              "      <th>2020-10-13</th>\n",
              "      <td>27.33</td>\n",
              "      <td>28.08</td>\n",
              "      <td>27.31</td>\n",
              "      <td>27.80</td>\n",
              "      <td>1.72</td>\n",
              "      <td>172,351,655.27</td>\n",
              "    </tr>\n",
              "    <tr>\n",
              "      <th>2020-10-14</th>\n",
              "      <td>27.92</td>\n",
              "      <td>28.12</td>\n",
              "      <td>27.10</td>\n",
              "      <td>27.25</td>\n",
              "      <td>-2.40</td>\n",
              "      <td>240,857,300.00</td>\n",
              "    </tr>\n",
              "    <tr>\n",
              "      <th>2020-10-15</th>\n",
              "      <td>26.89</td>\n",
              "      <td>28.44</td>\n",
              "      <td>26.52</td>\n",
              "      <td>27.82</td>\n",
              "      <td>3.46</td>\n",
              "      <td>296,149,460.75</td>\n",
              "    </tr>\n",
              "    <tr>\n",
              "      <th>2020-10-16</th>\n",
              "      <td>27.82</td>\n",
              "      <td>28.02</td>\n",
              "      <td>27.22</td>\n",
              "      <td>27.36</td>\n",
              "      <td>-1.65</td>\n",
              "      <td>154,332,291.44</td>\n",
              "    </tr>\n",
              "    <tr>\n",
              "      <th>2020-10-19</th>\n",
              "      <td>27.56</td>\n",
              "      <td>28.04</td>\n",
              "      <td>27.32</td>\n",
              "      <td>27.50</td>\n",
              "      <td>-0.22</td>\n",
              "      <td>144,542,750.00</td>\n",
              "    </tr>\n",
              "    <tr>\n",
              "      <th>2020-10-20</th>\n",
              "      <td>27.73</td>\n",
              "      <td>27.90</td>\n",
              "      <td>27.31</td>\n",
              "      <td>27.40</td>\n",
              "      <td>-1.19</td>\n",
              "      <td>163,882,137.72</td>\n",
              "    </tr>\n",
              "    <tr>\n",
              "      <th>2020-10-21</th>\n",
              "      <td>27.40</td>\n",
              "      <td>27.55</td>\n",
              "      <td>26.47</td>\n",
              "      <td>26.58</td>\n",
              "      <td>-2.99</td>\n",
              "      <td>260,268,701.25</td>\n",
              "    </tr>\n",
              "    <tr>\n",
              "      <th>2020-10-22</th>\n",
              "      <td>26.70</td>\n",
              "      <td>26.73</td>\n",
              "      <td>25.98</td>\n",
              "      <td>26.02</td>\n",
              "      <td>-2.55</td>\n",
              "      <td>265,078,754.66</td>\n",
              "    </tr>\n",
              "    <tr>\n",
              "      <th>2020-10-23</th>\n",
              "      <td>26.08</td>\n",
              "      <td>26.47</td>\n",
              "      <td>25.67</td>\n",
              "      <td>25.89</td>\n",
              "      <td>-0.73</td>\n",
              "      <td>230,573,745.56</td>\n",
              "    </tr>\n",
              "  </tbody>\n",
              "</table>\n",
              "</div>"
            ],
            "text/plain": [
              "            Open  High   Low  Close  Variacao        Volume$\n",
              "Date                                                        \n",
              "2020-10-09 27.62 28.35 27.08  27.20     -1.52 357,647,370.03\n",
              "2020-10-13 27.33 28.08 27.31  27.80      1.72 172,351,655.27\n",
              "2020-10-14 27.92 28.12 27.10  27.25     -2.40 240,857,300.00\n",
              "2020-10-15 26.89 28.44 26.52  27.82      3.46 296,149,460.75\n",
              "2020-10-16 27.82 28.02 27.22  27.36     -1.65 154,332,291.44\n",
              "2020-10-19 27.56 28.04 27.32  27.50     -0.22 144,542,750.00\n",
              "2020-10-20 27.73 27.90 27.31  27.40     -1.19 163,882,137.72\n",
              "2020-10-21 27.40 27.55 26.47  26.58     -2.99 260,268,701.25\n",
              "2020-10-22 26.70 26.73 25.98  26.02     -2.55 265,078,754.66\n",
              "2020-10-23 26.08 26.47 25.67  25.89     -0.73 230,573,745.56"
            ]
          },
          "metadata": {
            "tags": []
          },
          "execution_count": 212
        }
      ]
    },
    {
      "cell_type": "code",
      "metadata": {
        "id": "tO8liulX5vdP",
        "outputId": "bc68a732-ff56-4e33-9a89-d3d4f5872e9e",
        "colab": {
          "base_uri": "https://localhost:8080/",
          "height": 85
        }
      },
      "source": [
        "#Stochastic RSI 'STOCHRSI'\n",
        "TA.STOCHRSI(tkt, rsi_period=14, stoch_period=14).tail(2)"
      ],
      "execution_count": 213,
      "outputs": [
        {
          "output_type": "execute_result",
          "data": {
            "text/plain": [
              "Date\n",
              "2020-10-22   0.82\n",
              "2020-10-23   0.81\n",
              "Name: 14 period stochastic RSI., dtype: float64"
            ]
          },
          "metadata": {
            "tags": []
          },
          "execution_count": 213
        }
      ]
    },
    {
      "cell_type": "code",
      "metadata": {
        "id": "S0sdKjRP6usT",
        "outputId": "4fcf19ab-be88-434c-f0a0-5719b36e4c6d",
        "colab": {
          "base_uri": "https://localhost:8080/",
          "height": 85
        }
      },
      "source": [
        "#batendo\n",
        "#Stochastic oscillator %D 'STOCHD' - 3 periods\n",
        "TA.STOCHD(tkt).tail(2)"
      ],
      "execution_count": 214,
      "outputs": [
        {
          "output_type": "execute_result",
          "data": {
            "text/plain": [
              "Date\n",
              "2020-10-22   11.65\n",
              "2020-10-23    3.84\n",
              "Name: 3 period STOCH %D., dtype: float64"
            ]
          },
          "metadata": {
            "tags": []
          },
          "execution_count": 214
        }
      ]
    },
    {
      "cell_type": "code",
      "metadata": {
        "id": "4_w1Yrh26-ee",
        "outputId": "faaddf3e-0897-41e7-8f49-4b795b978b64",
        "colab": {
          "base_uri": "https://localhost:8080/",
          "height": 102
        }
      },
      "source": [
        "#batendo quase\n",
        "#Stochastic oscillator %K 'STOCH' - 14 periods\n",
        "TA.STOCH(tkt).tail(3)"
      ],
      "execution_count": 215,
      "outputs": [
        {
          "output_type": "execute_result",
          "data": {
            "text/plain": [
              "Date\n",
              "2020-10-21   3.69\n",
              "2020-10-22   1.23\n",
              "2020-10-23   6.61\n",
              "Name: 14 period STOCH %K, dtype: float64"
            ]
          },
          "metadata": {
            "tags": []
          },
          "execution_count": 215
        }
      ]
    },
    {
      "cell_type": "code",
      "metadata": {
        "id": "Ncimyynk9DPh",
        "outputId": "fb7d48bd-6dc8-436d-aae8-2c170bd2d3c7",
        "colab": {
          "base_uri": "https://localhost:8080/",
          "height": 34
        }
      },
      "source": [
        "sum(TA.STOCH(tkt).tail(3))"
      ],
      "execution_count": 216,
      "outputs": [
        {
          "output_type": "execute_result",
          "data": {
            "text/plain": [
              "11.532476237247913"
            ]
          },
          "metadata": {
            "tags": []
          },
          "execution_count": 216
        }
      ]
    },
    {
      "cell_type": "code",
      "metadata": {
        "id": "jVseUWrO9t9m",
        "outputId": "9dc4a306-186f-411e-c805-2dcc41541ee9",
        "colab": {
          "base_uri": "https://localhost:8080/",
          "height": 136
        }
      },
      "source": [
        "#Relative Strenght Index 'RSI'\n",
        "TA.RSI(tkt).tail(5)"
      ],
      "execution_count": 217,
      "outputs": [
        {
          "output_type": "execute_result",
          "data": {
            "text/plain": [
              "Date\n",
              "2020-10-19   37.52\n",
              "2020-10-20   36.84\n",
              "2020-10-21   31.69\n",
              "2020-10-22   28.74\n",
              "2020-10-23   28.08\n",
              "Name: 14 period RSI, dtype: float64"
            ]
          },
          "metadata": {
            "tags": []
          },
          "execution_count": 217
        }
      ]
    },
    {
      "cell_type": "code",
      "metadata": {
        "id": "woBHRfJIBg2e",
        "outputId": "ac34d4dc-6014-478a-fd16-573105ed237d",
        "colab": {
          "base_uri": "https://localhost:8080/",
          "height": 68
        }
      },
      "source": [
        "#Volume Weighted Average Price 'VWAP'\n",
        "TA.VWAP(tkt).tail(1)"
      ],
      "execution_count": 218,
      "outputs": [
        {
          "output_type": "execute_result",
          "data": {
            "text/plain": [
              "Date\n",
              "2020-10-23   28.89\n",
              "Name: VWAP., dtype: float64"
            ]
          },
          "metadata": {
            "tags": []
          },
          "execution_count": 218
        }
      ]
    },
    {
      "cell_type": "code",
      "metadata": {
        "id": "CS3y84GHCQRX",
        "outputId": "62a2969c-6a89-4718-80d7-90481a1d4b31",
        "colab": {
          "base_uri": "https://localhost:8080/",
          "height": 136
        }
      },
      "source": [
        "#batendo\n",
        "#Simple Moving Average 'SMA'\n",
        "TA.SMA(tkt, period=9).tail(5)"
      ],
      "execution_count": 219,
      "outputs": [
        {
          "output_type": "execute_result",
          "data": {
            "text/plain": [
              "Date\n",
              "2020-10-19   27.66\n",
              "2020-10-20   27.53\n",
              "2020-10-21   27.40\n",
              "2020-10-22   27.21\n",
              "2020-10-23   27.07\n",
              "Name: 9 period SMA, dtype: float64"
            ]
          },
          "metadata": {
            "tags": []
          },
          "execution_count": 219
        }
      ]
    },
    {
      "cell_type": "code",
      "metadata": {
        "id": "CnF6R3UeIPjw",
        "outputId": "54f4a826-159c-42d8-cfb1-95ca2a1a0d6f",
        "colab": {
          "base_uri": "https://localhost:8080/",
          "height": 136
        }
      },
      "source": [
        "#batendo\n",
        "#Simple Moving Average 'SMA'\n",
        "TA.SMA(tkt, period=21).tail(5)"
      ],
      "execution_count": 220,
      "outputs": [
        {
          "output_type": "execute_result",
          "data": {
            "text/plain": [
              "Date\n",
              "2020-10-19   28.32\n",
              "2020-10-20   28.22\n",
              "2020-10-21   28.08\n",
              "2020-10-22   27.93\n",
              "2020-10-23   27.79\n",
              "Name: 21 period SMA, dtype: float64"
            ]
          },
          "metadata": {
            "tags": []
          },
          "execution_count": 220
        }
      ]
    }
  ]
}